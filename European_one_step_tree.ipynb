{
 "cells": [
  {
   "cell_type": "code",
   "execution_count": 6,
   "id": "b654aa66",
   "metadata": {},
   "outputs": [],
   "source": [
    "import numpy as np\n",
    "import math\n",
    "from scipy.stats import norm\n",
    "import matplotlib.pyplot as plt\n",
    "from matplotlib.pyplot import MultipleLocator\n",
    "from matplotlib.pyplot import figure"
   ]
  },
  {
   "cell_type": "code",
   "execution_count": 24,
   "id": "f2955b90",
   "metadata": {},
   "outputs": [],
   "source": [
    "### INSERT VARIABLES HERE ###\n",
    "assetLife = 20\n",
    "gearboxLife = 10\n",
    "tstrike = 10\n",
    "numberOfTurbines = 100 #number of turbines\n",
    "inflationRate = 1.05 #Assuming 5% inflation rate\n",
    "\n",
    "elecPriceSigma = 0.18\n",
    "gearboxCost = 1 #£MM per turbine\n",
    "gearboxSigma = 0.15\n",
    "\n",
    "totalSigma = 0.085\n",
    "\n",
    "#math.sqrt((elecPriceSigma**2)+(gearboxSigma**2))\n",
    "\n",
    "ratedCap = 8 #MW\n",
    "costPerMW = 0.9 #£1.1mil per MW\n",
    "capFactor = 0.3 #Output is 30% of RC\n",
    "availability = 0.95 #Assume turbines are on 95% of the time\n",
    "\n",
    "initElecPrice = 20 #£/MWh\n",
    "\n",
    "riskAdjRate = 0.07 #risk-adjusted discount rate\n",
    "riskFreeRate = 0.03"
   ]
  },
  {
   "cell_type": "code",
   "execution_count": 25,
   "id": "ae300d89",
   "metadata": {},
   "outputs": [],
   "source": [
    "### FUNCTIONS FOR BAU CASE ###\n",
    "\n",
    "def BAUfindSetupCost(ratedCap, numberOfTurbines, costPerMW):\n",
    "    setupCost = numberOfTurbines * costPerMW * ratedCap\n",
    "    return setupCost\n",
    "\n",
    "def BAUfindNetYield(numberOfTurbines, ratedCap, capFactor, availability):\n",
    "    grossYield = numberOfTurbines * ratedCap * capFactor * 8760 #8760 hours in a year\n",
    "    netYield = availability * grossYield\n",
    "    return netYield\n",
    "\n",
    "def BAUfindCashIn(assetLife, gearboxLife, initElecPrice, inflationRate, netYield, tstrike):\n",
    "    \n",
    "    elecPrice = np.zeros(gearboxLife + tstrike) #initialise arrays\n",
    "    revenue = np.zeros(gearboxLife + tstrike)\n",
    "    opCosts = np.zeros(gearboxLife + tstrike)\n",
    "    profit = np.zeros(gearboxLife + tstrike)\n",
    "    elecPrice[0] = initElecPrice\n",
    "    \n",
    "    for i in range (0,assetLife):\n",
    "        if(i > 0):\n",
    "            elecPrice[i] = elecPrice[i-1]*inflationRate\n",
    "            \n",
    "        revenue[i] = netYield * elecPrice[i]\n",
    "        opCosts[i] = 0.3 * revenue[i] #Assuming operation costs are 30% of revenue\n",
    "        if(i >= assetLife - 3):\n",
    "            profit[i] = (revenue[i] - opCosts[i]) * pow(0.8, (i - (assetLife - 4))) * pow(10, -6)\n",
    "        else:\n",
    "            profit[i] = (revenue[i] - opCosts[i]) * pow(10, -6) #profit in £MM\n",
    "    \n",
    "    return profit\n",
    "\n",
    "def BAUfindPV(r, setupCost, assetLife, profit):\n",
    "    PV = np.zeros(len(profit)) #initialise PV array\n",
    "    PV[0] = -setupCost #initial cash outflow due to setup\n",
    "    for i in range (1,tstrike):\n",
    "        PV[i] = profit[i] / pow((1 + r), i)\n",
    "        \n",
    "    print(\"BAU Present Values:\", np.around(PV, 2), '\\n')\n",
    "\n",
    "    return PV"
   ]
  },
  {
   "cell_type": "code",
   "execution_count": 26,
   "id": "77b639fc",
   "metadata": {},
   "outputs": [
    {
     "name": "stdout",
     "output_type": "stream",
     "text": [
      "BAU Present Values: [-720.     27.44   26.93   26.42   25.93   25.44   24.97   24.5    24.04\n",
      "   23.59    0.      0.      0.      0.      0.      0.      0.      0.\n",
      "    0.      0.  ] \n",
      "\n",
      "BAU Net Present Value = £-490.73 million\n"
     ]
    }
   ],
   "source": [
    "### CALCULATIONS FOR BAU CASE ###\n",
    "\n",
    "### Calculate replacement cost ###\n",
    "BAUsetupCost = BAUfindSetupCost(ratedCap, numberOfTurbines, costPerMW)\n",
    "\n",
    "### Calculate net yield ###\n",
    "BAUnetYield = BAUfindNetYield(numberOfTurbines, ratedCap, capFactor, availability)\n",
    "\n",
    "### Calculate cash in-flows ###\n",
    "BAUprofit = BAUfindCashIn(assetLife, gearboxLife, initElecPrice, inflationRate, BAUnetYield, tstrike)\n",
    "\n",
    "### Calculate Present values ###\n",
    "BAUPV = BAUfindPV(riskAdjRate, BAUsetupCost, assetLife, BAUprofit)\n",
    "\n",
    "### Calculate NPV ###\n",
    "BAUNPV = np.sum(BAUPV)\n",
    "print(\"BAU Net Present Value = £%.2f million\" % BAUNPV)"
   ]
  },
  {
   "cell_type": "code",
   "execution_count": 27,
   "id": "3e766a81",
   "metadata": {},
   "outputs": [],
   "source": [
    "def findReplacementCost(numberOfTurbines, gearboxCost):\n",
    "    replacementCost = gearboxCost * numberOfTurbines\n",
    "    return replacementCost"
   ]
  },
  {
   "cell_type": "code",
   "execution_count": 28,
   "id": "d1ed2f8d",
   "metadata": {},
   "outputs": [],
   "source": [
    "def findNetYield(numberOfTurbines, ratedCap, capFactor, availability):\n",
    "    grossYield = numberOfTurbines * ratedCap * capFactor * 8760 #8760 hours in a year\n",
    "    netYield = availability * grossYield\n",
    "    return netYield"
   ]
  },
  {
   "cell_type": "code",
   "execution_count": 29,
   "id": "bc684f20",
   "metadata": {},
   "outputs": [],
   "source": [
    "def findCashIn(assetLife, gearboxLife, initElecPrice, inflationRate, netYield):\n",
    "    \n",
    "    elecPrice = np.zeros(gearboxLife) #initialise arrays\n",
    "    revenue = np.zeros(gearboxLife)\n",
    "    opCosts = np.zeros(gearboxLife)\n",
    "    profit = np.zeros(gearboxLife)\n",
    "    elecPrice[0] = initElecPrice*pow(inflationRate,tstrike) # should move with inf rate at strike\n",
    "    \n",
    "    for i in range (0, gearboxLife):\n",
    "        if(i>0):\n",
    "            elecPrice[i] = elecPrice[i-1]*inflationRate\n",
    "        \n",
    "        revenue[i] = netYield * elecPrice[i]\n",
    "        opCosts[i] = 0.3 * revenue[i] #Assuming operation costs are 30% of revenue\n",
    "        profit[i] = (revenue[i] - opCosts[i]) * pow(10, -6) #profit in £MM\n",
    "        \n",
    "        #if(i >= gearboxLife - 3):\n",
    "            #profit[i] = (revenue[i] - opCosts[i]) * pow(0.8, i - (gearboxLife - 4)) * pow(10, -6) #profit in £MM\n",
    "            #otherwise devides by decimals due to negative power ,  which grows values\n",
    "            \n",
    "           \n",
    "    return profit"
   ]
  },
  {
   "cell_type": "code",
   "execution_count": 30,
   "id": "69177f08",
   "metadata": {},
   "outputs": [],
   "source": [
    "def findPV(riskFreeRate, riskAdjRate, replacementCost, assetLife, gearboxLife, profit, tstrike):\n",
    "    PV = np.zeros(gearboxLife) #initialise PV array\n",
    "    \n",
    "    #PV[0] = -replacementCost\n",
    "    for i in range (1, assetLife - tstrike):\n",
    "        PV[i] = profit[i] / pow((1 + riskFreeRate), tstrike+i) # should start from tstrike not tstart\n",
    "\n",
    "    for i in range (assetLife - tstrike, gearboxLife):\n",
    "        PV[i] = profit[i] / pow((1 + riskAdjRate), tstrike+i)\n",
    "\n",
    "    print(\"Replacement case Present Values:\", np.around(PV, 2), '\\n')\n",
    "    return PV"
   ]
  },
  {
   "cell_type": "code",
   "execution_count": 31,
   "id": "82bb9dce",
   "metadata": {},
   "outputs": [
    {
     "name": "stdout",
     "output_type": "stream",
     "text": [
      "Replacement case Present Values: [ 0.   34.55 35.22 35.9  36.6  37.31 38.04 38.78 39.53 40.3 ] \n",
      "\n",
      "Net Present Value of replacement case = £336.22 million\n",
      "\n"
     ]
    }
   ],
   "source": [
    "### CALCULATIONS FOR OPTION CASES ###\n",
    "\n",
    "### Calculate replacement cost ###\n",
    "replacementCost = findReplacementCost(numberOfTurbines, gearboxCost)\n",
    "\n",
    "### Calculate net yield ###\n",
    "netYield = findNetYield(numberOfTurbines, ratedCap, capFactor, availability)\n",
    "\n",
    "### Calculate cash in-flows ###\n",
    "profitOption = findCashIn(assetLife, gearboxLife, initElecPrice, inflationRate, netYield)\n",
    "#print(profitOption)\n",
    "\n",
    "### Calculate Present Values ###\n",
    "PVOption = findPV(riskFreeRate, riskAdjRate, replacementCost, assetLife, gearboxLife, profitOption, tstrike)\n",
    "\n",
    "### Calculate NPVs ###\n",
    "NPVOption = np.around(np.sum(PVOption), 2)\n",
    "print(\"Net Present Value of replacement case = £%.2f million\\n\" % NPVOption)\n",
    "\n"
   ]
  },
  {
   "cell_type": "code",
   "execution_count": 32,
   "id": "6f4d4d0f",
   "metadata": {},
   "outputs": [
    {
     "name": "stdout",
     "output_type": "stream",
     "text": [
      "1.0272438687020908\n",
      "0.9734786747994777\n",
      "18.534692295643122\n"
     ]
    }
   ],
   "source": [
    "### Find Probabilities of each branch of the tree ###\n",
    "\n",
    "u = np.exp(totalSigma * math.sqrt(1/tstrike))\n",
    "d = (1/u)\n",
    "u2 = u - 1\n",
    "d2 = -(1-d)\n",
    "\n",
    "p = ((1-riskFreeRate) - d2) / (u2 - d2)\n",
    "\n",
    "print(u)\n",
    "print(d)\n",
    "print(p)"
   ]
  },
  {
   "cell_type": "code",
   "execution_count": 33,
   "id": "492848ec",
   "metadata": {},
   "outputs": [
    {
     "name": "stdout",
     "output_type": "stream",
     "text": [
      "61.39132535407592\n",
      "345.379933535017\n",
      "327.3030000410804\n",
      "283.9886081809411\n",
      "265.9116746870045\n"
     ]
    }
   ],
   "source": [
    "### Find total payoff for each branch of the tree ###\n",
    "\n",
    "S = NPVOption\n",
    "X = replacementCost / pow(inflationRate, tstrike)\n",
    "print(X)\n",
    "\n",
    "upS = S * u\n",
    "downS = S * d\n",
    "print(upS)\n",
    "print(downS)\n",
    "\n",
    "\n",
    "upValue = max(upS - X, 0)\n",
    "downValue = max(downS - X, 0)\n",
    "print(upValue)\n",
    "print(downValue)"
   ]
  },
  {
   "cell_type": "code",
   "execution_count": 34,
   "id": "c39bb333",
   "metadata": {},
   "outputs": [
    {
     "name": "stdout",
     "output_type": "stream",
     "text": [
      "Option value = £445.20 million\n",
      "\n",
      "Total value of project = £-274.80 million\n",
      "\n"
     ]
    }
   ],
   "source": [
    "### Calculate option value ###\n",
    "\n",
    "optionValue = np.exp(-riskFreeRate * tstrike) * ((p * upValue) + ((1-p) * downValue))\n",
    "\n",
    "totalValue = optionValue - BAUsetupCost\n",
    "\n",
    "print(\"Option value = £%.2f million\\n\" % optionValue)\n",
    "print(\"Total value of project = £%.2f million\\n\" % totalValue)"
   ]
  },
  {
   "cell_type": "code",
   "execution_count": null,
   "id": "b33755ad",
   "metadata": {},
   "outputs": [],
   "source": []
  },
  {
   "cell_type": "code",
   "execution_count": null,
   "id": "2884b0fa",
   "metadata": {},
   "outputs": [],
   "source": []
  }
 ],
 "metadata": {
  "kernelspec": {
   "display_name": "Python 3 (ipykernel)",
   "language": "python",
   "name": "python3"
  },
  "language_info": {
   "codemirror_mode": {
    "name": "ipython",
    "version": 3
   },
   "file_extension": ".py",
   "mimetype": "text/x-python",
   "name": "python",
   "nbconvert_exporter": "python",
   "pygments_lexer": "ipython3",
   "version": "3.9.13"
  }
 },
 "nbformat": 4,
 "nbformat_minor": 5
}
