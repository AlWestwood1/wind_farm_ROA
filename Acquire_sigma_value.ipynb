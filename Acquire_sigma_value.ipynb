{
  "cells": [
    {
      "cell_type": "code",
      "source": [
        "!pip install numpy==1.21.5\n",
        "!pip install nptyping==1.4.4"
      ],
      "metadata": {
        "colab": {
          "base_uri": "https://localhost:8080/"
        },
        "id": "OoSkqbcle5BT",
        "outputId": "8cafbe36-279d-4e69-8a03-450d6d4154ca"
      },
      "id": "OoSkqbcle5BT",
      "execution_count": 1,
      "outputs": [
        {
          "output_type": "stream",
          "name": "stdout",
          "text": [
            "Looking in indexes: https://pypi.org/simple, https://us-python.pkg.dev/colab-wheels/public/simple/\n",
            "Requirement already satisfied: numpy==1.21.5 in /usr/local/lib/python3.9/dist-packages (1.21.5)\n",
            "Looking in indexes: https://pypi.org/simple, https://us-python.pkg.dev/colab-wheels/public/simple/\n",
            "Requirement already satisfied: nptyping==1.4.4 in /usr/local/lib/python3.9/dist-packages (1.4.4)\n",
            "Requirement already satisfied: numpy in /usr/local/lib/python3.9/dist-packages (from nptyping==1.4.4) (1.21.5)\n",
            "Requirement already satisfied: typish>=1.7.0 in /usr/local/lib/python3.9/dist-packages (from nptyping==1.4.4) (1.9.3)\n"
          ]
        }
      ]
    },
    {
      "cell_type": "code",
      "execution_count": 2,
      "id": "8f65649e",
      "metadata": {
        "id": "8f65649e"
      },
      "outputs": [],
      "source": [
        "import pandas as pd\n",
        "import numpy as np\n",
        "from matplotlib import pyplot as plt\n",
        "import ornstein_uhlenbeck as ou\n",
        "import time\n",
        "import math"
      ]
    },
    {
      "cell_type": "code",
      "execution_count": 3,
      "id": "92d139ee",
      "metadata": {
        "id": "92d139ee"
      },
      "outputs": [],
      "source": [
        "# Global Variables\n",
        "\n",
        "ratedCap = 8 #MW\n",
        "initElecPrice = 45 #£/mwh \n",
        "capFactor = 0.3 #Output is 30% of RC\n",
        "availability = 0.95 #Assume turbines are on 95% of the time\n",
        "numberOfTurbines=100\n",
        "\n",
        "inflationRate = 1.05\n",
        "riskAdjRate = 0.07 #risk-adjusted discount rate\n",
        "riskFreeRate = 0.03\n",
        "\n",
        "assetLife = 20\n",
        "gearBoxLife = 10\n",
        "\n",
        "impCostGearbox = 200 # millions\n",
        "\n",
        "estimate_num = 120   # The estimated number of data\n"
      ]
    },
    {
      "cell_type": "code",
      "execution_count": 4,
      "id": "07dacf23",
      "metadata": {
        "id": "07dacf23"
      },
      "outputs": [],
      "source": [
        "# read data\n",
        "df = pd.read_csv('./data/electricity-prices-day-a.csv')\n",
        "df.columns = ['date','price']\n",
        "df = df.head(estimate_num)"
      ]
    },
    {
      "cell_type": "code",
      "execution_count": 5,
      "id": "95c617f9",
      "metadata": {
        "id": "95c617f9"
      },
      "outputs": [],
      "source": [
        "# Legacy Function Definitions\n",
        "\n",
        "def netYieldCalculation(numberOfTurbines, ratedCap, capFactor, availability):\n",
        "    grossYield = numberOfTurbines * ratedCap * capFactor * 8760 #8760 hours in a year\n",
        "    netYield = availability * grossYield\n",
        "    return netYield\n",
        "\n",
        "\n",
        "def compute_price_parameters(df):\n",
        "    \"\"\"\n",
        "    this function compute parameters of OU process\n",
        "    :param df: price dataframe\n",
        "    :return mu: ou process mu\n",
        "    :return theta: ou process theta\n",
        "    :return sigma_sq: ou process sigma_sq \n",
        "    \"\"\"\n",
        "    date_list = df['date'].to_list()\n",
        "    x_data = np.array(df['price'].to_list())\n",
        "    #stamp_list  = [int(time.mktime(time.strptime(i, \"%Y-%m-%d %H:%M:%S\"))) for i in date_list]\n",
        "    stamp_list = [i for i in range(len(x_data))]\n",
        "    estimator = ou.OrnsteinUhlenbeckEstimator([(np.array(stamp_list), x_data)], n_it=5)\n",
        "    mu = estimator.mu\n",
        "    theta = estimator.eta\n",
        "    sigma_sq = estimator.sigma_sq()\n",
        "    x_t = x_data[-1]\n",
        "    return mu,theta,sigma_sq,x_t\n",
        "\n",
        "\n",
        "#assetLife, initElecPrice, inflationRate,riskAdjRate,numberOfTurbines\n",
        "def cashFlowCalculation(*args):\n",
        "    discountedCashFlows = np.zeros(assetLife)\n",
        "\n",
        "    mu,theta,sigma_sq,x_t = compute_price_parameters(df)\n",
        "\n",
        "    for i in range(0,assetLife):\n",
        "        netYield = netYieldCalculation(numberOfTurbines, ratedCap, capFactor, availability)\n",
        "        x_t_plus_1 = x_t*math.exp(-theta)+mu*(1-math.exp(-theta))+sigma_sq/(2*theta)*(1-math.exp(-theta*2))\n",
        "        discountedCashFlows[i] = pow(10,-6)* 0.7 * x_t_plus_1 * pow(inflationRate,i) * netYield / pow((1 + riskAdjRate), i)\n",
        "        x_t = x_t_plus_1\n",
        "        \n",
        "    return discountedCashFlows\n",
        "\n",
        "\n",
        "#assetLife, initElecPrice, inflationRate,riskAdjRate,numberOfTurbines\n",
        "def baseCashFlowCalculation(*args):\n",
        "    discountedBaseCashFlows = np.zeros(assetLife)\n",
        "\n",
        "    \n",
        "    \n",
        "    for i in range(0,assetLife):\n",
        "        netYield = netYieldCalculation(numberOfTurbines, ratedCap, capFactor, availability)\n",
        "        discountedBaseCashFlows[i] = pow(10,-6)* 0.7 * initElecPrice * pow(inflationRate,i) * netYield / pow((1 + riskAdjRate), i)\n",
        "        \n",
        "    return discountedBaseCashFlows"
      ]
    },
    {
      "cell_type": "code",
      "execution_count": 6,
      "id": "83c4a5a9",
      "metadata": {
        "id": "83c4a5a9"
      },
      "outputs": [],
      "source": [
        "# Simulation Environment Functions\n",
        "\n",
        "def TurbineDeathSimulation(scale, loc):\n",
        "    \"\"\"Takes the baseCashFlows and simulates how turbine failures would change overall project npv\"\"\"\n",
        "    \n",
        "    discountedBaseCashFlows = baseCashFlowCalculation()\n",
        "    x= np.floor(np.random.normal(loc = loc , scale = scale , size = numberOfTurbines)).astype('int')\n",
        "    unique, counts = np.unique(x, return_counts=True)\n",
        "    y = np.asarray((unique, 1 - np.cumsum(counts)/numberOfTurbines)).T\n",
        "\n",
        "    if np.any(y<0):\n",
        "        y = np.asarray([ [ i[0]-min(y[:,0]) , i[1] ] for i in y ])\n",
        "        \n",
        "        if np.any(y>assetLife-1):\n",
        "            y = y[y[:,0] < assetLife]\n",
        "            y[-1][1] = 0\n",
        "\n",
        "    elif np.any(y>assetLife-1):\n",
        "        y = np.asarray([ [ i[0] - ( max(y[:,0]) - (assetLife-1) ) , i[1] ] for i in y ]) \n",
        "\n",
        "        if np.any(y<0):\n",
        "            startValue = y[0][1]\n",
        "            y = y[y[:,0] > -1]\n",
        "            y[0][1] = startValue\n",
        "            \n",
        "            \n",
        "    \n",
        "    probArray = np.ones(assetLife)\n",
        "    for count,i in enumerate(y):\n",
        "        probArray[i[0].astype('int')] = i[1]\n",
        "    probArray = [0 if count>y[-1][0] else i for count,i in enumerate(probArray)]    \n",
        "    \n",
        "    output = discountedBaseCashFlows * probArray\n",
        "    \n",
        "    return output[output > 0]\n",
        "    \n",
        "\n",
        "    \n",
        "    \n",
        "def SigmaCalculator(testFunction,arguments):\n",
        "    \"\"\"Takes the price fluctuated cash flows and calculates the mean of the standard deviation of the\n",
        "    logrithemic returns ,from it\"\"\"\n",
        "    \n",
        "    sigma_array = []\n",
        "    for _ in range(0,10000):\n",
        "        \n",
        "        discountedCashFlows = testFunction(arguments)\n",
        "        logrithmicReturns = np.zeros(len(discountedCashFlows) - 1)\n",
        "        \n",
        "        for g in enumerate(discountedCashFlows):\n",
        "            if g[0]<len(discountedCashFlows) - 1:\n",
        "                logrithmicReturns[g[0]] = np.log( discountedCashFlows[g[0]+1]/discountedCashFlows[g[0]] )\n",
        "\n",
        "        sigma_array.append(np.std(logrithmicReturns))\n",
        "\n",
        "    sigma = np.mean(sigma_array)\n",
        "    return sigma"
      ]
    },
    {
      "cell_type": "code",
      "execution_count": 12,
      "id": "7ad7ee21",
      "metadata": {
        "id": "7ad7ee21",
        "colab": {
          "base_uri": "https://localhost:8080/"
        },
        "outputId": "6e364fb4-ec9d-4ca9-ae62-cee252ac5082"
      },
      "outputs": [
        {
          "output_type": "stream",
          "name": "stdout",
          "text": [
            "sigma =  0.08542013087237595\n"
          ]
        }
      ],
      "source": [
        "sigma = SigmaCalculator(cashFlowCalculation,())\n",
        "print('sigma = ', sigma)"
      ]
    }
  ],
  "metadata": {
    "colab": {
      "provenance": []
    },
    "kernelspec": {
      "display_name": "Python 3",
      "language": "python",
      "name": "python3"
    },
    "language_info": {
      "codemirror_mode": {
        "name": "ipython",
        "version": 3
      },
      "file_extension": ".py",
      "mimetype": "text/x-python",
      "name": "python",
      "nbconvert_exporter": "python",
      "pygments_lexer": "ipython3",
      "version": "3.7.0"
    }
  },
  "nbformat": 4,
  "nbformat_minor": 5
}